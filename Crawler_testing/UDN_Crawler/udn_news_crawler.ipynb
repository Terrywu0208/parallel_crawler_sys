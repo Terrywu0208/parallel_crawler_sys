{
 "cells": [
  {
   "cell_type": "code",
   "execution_count": 3,
   "metadata": {},
   "outputs": [],
   "source": [
    "import requests\n",
    "from bs4 import BeautifulSoup\n",
    "import json \n",
    "import pandas as pd\n",
    "from datetime import datetime, timedelta\n",
    "import time\n",
    "import re\n",
    "\n",
    "def change_date(df):\n",
    "    post_time = datetime.strptime(df['date'], \"%Y-%m-%d %H:%M\")\n",
    "    post_time = post_time.strftime(\"%Y%m%d%H%M\")\n",
    "    return post_time\n",
    "\n",
    "def clean_data(search_result):\n",
    "    df = pd.DataFrame(search_result)\n",
    "    df = df.drop([\"titleLink\",\"cateLink\"], axis=1)\n",
    "    df[\"time\"] = df[\"time\"].apply(change_date)\n",
    "    return df\n",
    "\n",
    "def news_crawler(start_date):\n",
    "    start_date = start_date.strftime(\"%Y%m%d\")\n",
    "    news_list_all = []\n",
    "    page = 1\n",
    "    while page <2:\n",
    "        response = requests.get(f\"https://udn.com/api/more?page={page}&date={start_date}&type=archive\")\n",
    "        json_response = json.loads(response.text)\n",
    "\n",
    "        try:\n",
    "            news_list = json_response[\"lists\"]\n",
    "        except:\n",
    "            break\n",
    "\n",
    "        news_list_all.extend(json_response[\"lists\"])\n",
    "        page+=1\n",
    "\n",
    "        time.sleep(3)\n",
    "    final_result = clean_data(news_list_all)\n",
    "    return final_result\n",
    "\n",
    "if __name__ == \"__main__\":\n",
    "    search_result = news_crawler(datetime(2022,2,5))"
   ]
  }
 ],
 "metadata": {
  "kernelspec": {
   "display_name": "Python 3",
   "language": "python",
   "name": "python3"
  },
  "language_info": {
   "codemirror_mode": {
    "name": "ipython",
    "version": 3
   },
   "file_extension": ".py",
   "mimetype": "text/x-python",
   "name": "python",
   "nbconvert_exporter": "python",
   "pygments_lexer": "ipython3",
   "version": "3.9.5"
  },
  "orig_nbformat": 4,
  "vscode": {
   "interpreter": {
    "hash": "cf92aa13fedf815d5c8dd192b8d835913fde3e8bc926b2a0ad6cc74ef2ba3ca2"
   }
  }
 },
 "nbformat": 4,
 "nbformat_minor": 2
}
