{
 "cells": [
  {
   "cell_type": "code",
   "execution_count": 1,
   "metadata": {},
   "outputs": [],
   "source": [
    "import requests\n",
    "from bs4 import BeautifulSoup\n",
    "import pandas as pd\n",
    "from datetime import datetime\n",
    "\n",
    "def get_articles_info(start_date=None):\n",
    "    articles = []\n",
    "    index_url = \"https://www.ptt.cc/bbs/index.html\"\n",
    "    headers = {\"content-type\": 'text/html; charset=UTF-8',\n",
    "               \"user-agent\": 'Mozilla/5.0 (Macintosh; Intel Mac OS X 10_15_7) AppleWebKit/537.36 (KHTML, like Gecko) Chrome/111.0.0.0 Safari/537.36'}\n",
    "    \n",
    "    response = requests.get(index_url, headers=headers)\n",
    "    soup = BeautifulSoup(response.text, \"html.parser\")\n",
    "    \n",
    "    # 取得看板名稱\n",
    "    for item in soup.select(\".board-name\"):\n",
    "        board = item.text.strip()\n",
    "        board_url = f\"https://www.ptt.cc/bbs/{board}/index.html\"\n",
    "        response = requests.get(board_url, headers=headers)\n",
    "        soup = BeautifulSoup(response.text, \"html.parser\")\n",
    "        \n",
    "        # 看板的所有文章資訊\n",
    "        for item in soup.select(\".r-ent\"):\n",
    "            title_elem = item.select_one(\".title a\")\n",
    "            if not title_elem:\n",
    "                continue\n",
    "            \n",
    "            # 取得文章標題\n",
    "            title = title_elem.text.strip()\n",
    "            author_elem = item.select_one(\".author\")\n",
    "            if not author_elem:\n",
    "                continue\n",
    "            \n",
    "            # 取得文章作者\n",
    "            author = author_elem.text.strip()\n",
    "            date_elem = item.select_one(\".date\")\n",
    "            if not date_elem:\n",
    "                continue\n",
    "            \n",
    "            # 取得文章日期\n",
    "            date_str = date_elem.text.strip()\n",
    "            date = datetime.strptime(date_str, \"%m/%d\")\n",
    "            \n",
    "            if start_date and date < start_date:\n",
    "                continue  # 如果文章日期早於起始日期，則跳過\n",
    "            \n",
    "            articles.append({\n",
    "                \"board\": board,\n",
    "                \"title\": title,\n",
    "                \"author\": author,\n",
    "                \"date\": date_str\n",
    "            })\n",
    "    \n",
    "    result_df = pd.DataFrame(articles)\n",
    "    return result_df\n",
    "if __name__ == \"__main__\":\n",
    "    start_date_str = \"3/16\"\n",
    "    start_date = datetime.strptime(start_date_str, \"%m/%d\")\n",
    "    articles = get_articles_info(start_date=start_date)\n"
   ]
  }
 ],
 "metadata": {
  "interpreter": {
   "hash": "aee8b7b246df8f9039afb4144a1f6fd8d2ca17a180786b69acc140d282b71a49"
  },
  "kernelspec": {
   "display_name": "Python 3.9.6 64-bit",
   "name": "python3"
  },
  "language_info": {
   "codemirror_mode": {
    "name": "ipython",
    "version": 3
   },
   "file_extension": ".py",
   "mimetype": "text/x-python",
   "name": "python",
   "nbconvert_exporter": "python",
   "pygments_lexer": "ipython3",
   "version": "3.9.5"
  },
  "orig_nbformat": 4
 },
 "nbformat": 4,
 "nbformat_minor": 2
}
