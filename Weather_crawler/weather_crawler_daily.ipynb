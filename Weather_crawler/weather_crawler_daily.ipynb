{
 "cells": [
  {
   "cell_type": "code",
   "execution_count": 4,
   "metadata": {},
   "outputs": [],
   "source": [
    "import pandas as pd\n",
    "import os\n",
    "from datetime import datetime\n",
    "\n",
    "def weather_crawler(start_date):\n",
    "    station_name = \"ANBU\"\n",
    "    station_num = 466910\n",
    "    altitude = 837.6\n",
    "    start_time = start_date.strftime(\"%Y-%m-%d\")\n",
    "    file = pd.read_html(f\"https://e-service.cwb.gov.tw/HistoryDataQuery/DayDataController.do?command=viewMain&station={station_num}&stname={station_name}&datepicker={start_time}&altitude={altitude}m\",encoding=\"utf-8\")\n",
    "    f_col = [i[2] for i in file[1].columns]\n",
    "    file[1].columns = f_col\n",
    "    file[1] = file[1].replace(\"...\",\"NaN\")\n",
    "    file[1][\"Station\"] = [station_name]*len(file[1])\n",
    "    f_col.insert(0,\"Station\")\n",
    "    result_df = file[1][f_col]\n",
    "\n",
    "    return result_df\n",
    "\n",
    "if __name__ == \"__main__\":\n",
    "    final_result = weather_crawler(datetime(2023,3,19))"
   ]
  }
 ],
 "metadata": {
  "kernelspec": {
   "display_name": "Python 3",
   "language": "python",
   "name": "python3"
  },
  "language_info": {
   "codemirror_mode": {
    "name": "ipython",
    "version": 3
   },
   "file_extension": ".py",
   "mimetype": "text/x-python",
   "name": "python",
   "nbconvert_exporter": "python",
   "pygments_lexer": "ipython3",
   "version": "3.9.5"
  },
  "orig_nbformat": 4
 },
 "nbformat": 4,
 "nbformat_minor": 2
}
